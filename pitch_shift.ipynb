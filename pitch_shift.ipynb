{
 "metadata": {
  "language_info": {
   "codemirror_mode": {
    "name": "ipython",
    "version": 3
   },
   "file_extension": ".py",
   "mimetype": "text/x-python",
   "name": "python",
   "nbconvert_exporter": "python",
   "pygments_lexer": "ipython3",
   "version": "3.7.6-final"
  },
  "orig_nbformat": 2,
  "kernelspec": {
   "name": "python3",
   "display_name": "Python 3"
  }
 },
 "nbformat": 4,
 "nbformat_minor": 2,
 "cells": [
  {
   "source": [
    "Here we are generating a 10kHz sinewave @ 96kHz sampling rate and shifting its pitch up and down by the same ratio. Resulting signal is comared against the reference sinewave."
   ],
   "cell_type": "markdown",
   "metadata": {}
  },
  {
   "cell_type": "code",
   "execution_count": null,
   "metadata": {},
   "outputs": [],
   "source": [
    "import numpy as np\n",
    "import matplotlib.pyplot as plt\n",
    "from pitchtools import *\n",
    "\n",
    "Fs = 96_000\n",
    "freq = 10_000\n",
    "n_smp = 50\n",
    "x = np.arange(n_smp)\n",
    "sig = np.sin(2 * np.pi * freq * x / Fs)\n",
    "\n",
    "ratio = 1.77\n",
    "res = pitch_shift_linear(sig, ratio)\n",
    "res1 = pitch_shift_linear(res, 1.0 / ratio)\n",
    "res = pitch_shift_ovs2_poly_6p5o_orig(sig, ratio)\n",
    "res3 = pitch_shift_ovs2_poly_6p5o_orig(res, 1.0 / ratio)\n",
    "res = pitch_shift_ovs2_poly_6p5o_v2(sig, ratio)\n",
    "res4 = pitch_shift_ovs2_poly_6p5o_v2(res, 1.0 / ratio)\n",
    "\n",
    "plt.plot(x, sig, 'gx-')\n",
    "plt.plot(x, res1, 'ro-')\n",
    "plt.plot(x, res3, 'bd-')\n",
    "plt.plot(x, res4, 'kv-')\n",
    "plt.xlabel('sample')\n",
    "plt.ylabel('value')\n",
    "plt.legend(['input', 'linear', 'poly', 'poly v2'], loc='lower right')\n",
    "plt.show()\n"
   ]
  },
  {
   "source": [
    "Here we are \"stretching\" the signal looking at how different interpolators are reconstructing missing sample values."
   ],
   "cell_type": "markdown",
   "metadata": {}
  },
  {
   "cell_type": "code",
   "execution_count": null,
   "metadata": {},
   "outputs": [],
   "source": [
    "import numpy as np\n",
    "import matplotlib.pyplot as plt\n",
    "from pitchtools import *\n",
    "\n",
    "Fs = 96_000\n",
    "freq = 17_000\n",
    "n_smp = 16\n",
    "x = np.arange(n_smp)\n",
    "sig = np.sin(2 * np.pi * freq * x / Fs)\n",
    "\n",
    "ratio = 0.24\n",
    "res1 = pitch_shift_linear(sig, ratio)\n",
    "res2 = pitch_shift_ovs2_poly_6p5o_orig(sig, ratio)\n",
    "res3 = pitch_shift_ovs2_poly_6p5o_v2(sig, ratio)\n",
    "x = np.arange(len(res1))\n",
    "\n",
    "plt.plot(x, res1, 'ro-')\n",
    "plt.plot(x, res2, 'bd-')\n",
    "plt.plot(x, res3, 'kv-')\n",
    "plt.xlabel('sample')\n",
    "plt.ylabel('value')\n",
    "plt.legend(['linear', 'poly', 'poly v2'], loc='lower right')\n",
    "plt.show()"
   ]
  },
  {
   "source": [
    "The following cell processes a mono 96kHz .wav file using linear and polynomial interpolators."
   ],
   "cell_type": "markdown",
   "metadata": {}
  },
  {
   "cell_type": "code",
   "execution_count": 1,
   "metadata": {},
   "outputs": [],
   "source": [
    "# Pitch change ratio, e.g. 2.0 = \"one octave up\" \n",
    "RATIO = 1.05946 # one semitone up\n",
    "\n",
    "import os\n",
    "from scipy.io import wavfile\n",
    "import scipy.io\n",
    "from PyQt5 import QtGui, QtWidgets\n",
    "from pitchtools import *\n",
    "\n",
    "# Open file dialog and generate names for output files\n",
    "app = QtWidgets.QApplication([dir])\n",
    "fname_in, _ = QtWidgets.QFileDialog.getOpenFileName(None, \"Input file\", '.', filter=\"Wav files (*.wav)\")\n",
    "fname_out_linear = os.path.splitext(fname_in)[0] + \".linear.wav\"\n",
    "fname_out_poly = os.path.splitext(fname_in)[0] + \".poly.wav\"\n",
    "fname_out_poly_v2 = os.path.splitext(fname_in)[0] + \".poly_v2.wav\"\n",
    "\n",
    "# Read and process .wav file\n",
    "Fs, sig = wavfile.read(fname_in)\n",
    "wavfile.write(fname_out_linear, Fs, pitch_shift_linear(sig, RATIO))\n",
    "wavfile.write(fname_out_poly, Fs, pitch_shift_ovs2_poly_6p5o_orig(sig, RATIO))\n",
    "wavfile.write(fname_out_poly_v2, Fs, pitch_shift_ovs2_poly_6p5o_v2(sig, RATIO))"
   ]
  },
  {
   "cell_type": "code",
   "execution_count": null,
   "metadata": {},
   "outputs": [],
   "source": []
  }
 ]
}